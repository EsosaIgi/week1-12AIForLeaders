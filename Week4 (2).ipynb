{
 "cells": [
  {
   "cell_type": "markdown",
   "id": "4441d563-75a4-4c32-b1e7-2c229477ca1c",
   "metadata": {},
   "source": [
    "# Week 4 - Univariate Analysis, part 2"
   ]
  },
  {
   "cell_type": "markdown",
   "id": "98e23199-b611-403a-b843-2369d14d29bd",
   "metadata": {
    "jp-MarkdownHeadingCollapsed": true
   },
   "source": [
    "# 1. Lesson - None"
   ]
  },
  {
   "cell_type": "markdown",
   "id": "35a7a0ae-f55f-455f-a951-478605b5e192",
   "metadata": {},
   "source": [
    "# 2. Weekly graph question"
   ]
  },
  {
   "cell_type": "markdown",
   "id": "6807d39d-413e-4ce2-9281-3dd73eda198f",
   "metadata": {},
   "source": [
    "Below are a histogram and boxplot representation of the same data. A pharmacy is keeping a record of the prices of the drugs that it sells, and an administrator wants to know how much the more expensive drugs tend to cost, in the context of the other prices.\n",
    "\n",
    "Please write a short explanation of the pros and cons of these two representations. Which would you choose? How would you modify the formatting, if at all, to make it more visually interesting, clear, or informative?"
   ]
  },
  {
   "cell_type": "code",
   "execution_count": 2,
   "id": "1888593e-817d-4148-954d-5d156593bd8d",
   "metadata": {},
   "outputs": [],
   "source": [
    "import numpy as np\n",
    "import pandas as pd\n",
    "\n",
    "np.random.seed(0)\n",
    "num_data = 100\n",
    "data = np.exp(np.random.uniform(size = num_data) * 4)\n",
    "df = pd.DataFrame(data.T, columns = [\"data\"])"
   ]
  },
  {
   "cell_type": "code",
   "execution_count": 3,
   "id": "13745ab1-8a9b-4568-bf56-3245fa36a358",
   "metadata": {},
   "outputs": [
    {
     "name": "stdout",
     "output_type": "stream",
     "text": [
      "The 75th percentile is: data    15.457656\n",
      "Name: 0.75, dtype: float64\n"
     ]
    },
    {
     "data": {
      "text/plain": [
       "<Axes: ylabel='Frequency'>"
      ]
     },
     "execution_count": 3,
     "metadata": {},
     "output_type": "execute_result"
    },
    {
     "data": {
      "image/png": "[encoded data removed]",
      "text/plain": [
       "<Figure size 640x480 with 1 Axes>"
      ]
     },
     "metadata": {},
     "output_type": "display_data"
    }
   ],
   "source": [
    "print(\"The 75th percentile is:\", df.quantile(q = 0.75))\n",
    "df.plot.hist()"
   ]
  },
  {
   "cell_type": "code",
   "execution_count": 4,
   "id": "d4dbce72-bd33-43a2-b3e7-354a1cca6e39",
   "metadata": {},
   "outputs": [
    {
     "data": {
      "text/plain": [
       "<Axes: >"
      ]
     },
     "execution_count": 4,
     "metadata": {},
     "output_type": "execute_result"
    },
    {
     "data": {
      "image/png": "[encoded data removed]",
      "text/plain": [
       "<Figure size 640x480 with 1 Axes>"
      ]
     },
     "metadata": {},
     "output_type": "display_data"
    }
   ],
   "source": [
    "df.plot.box()"
   ]
  },
  {
   "cell_type": "markdown",
   "id": "ab830464-2f92-4281-a2d3-474ffd26d1c7",
   "metadata": {},
   "source": [
    "# 3. Homework - working on your datasets"
   ]
  },
  {
   "cell_type": "markdown",
   "id": "e892ba10-7f81-4330-9863-73f65fbdc4bd",
   "metadata": {},
   "source": [
    "This week, you will do the same types of exercises as last week, but you should use your chosen datasets that someone in your class found last semester. (They likely will not be the particular datasets that you found yourself.)\n",
    "\n",
    "### Here are some types of analysis you can do:\n",
    "\n",
    "- Draw histograms and histogram variants for each feature or column.  (Swarm plot, kde plot, violin plot).\n",
    "\n",
    "- Draw grouped histograms.  For instance, if you have tree heights for both maple and oak trees, you could draw histograms for both.\n",
    "\n",
    "- Draw a bar plot to indicate total counts of each categorical variable in a given column.\n",
    "\n",
    "- Find means, medians, and modes.\n",
    "\n",
    "### Conclusions:\n",
    "\n",
    "- Explain what conclusions you would draw from this analysis: are the data what you expect?  Are the data likely to be usable?  If they are not useable, find some new data!\n",
    "\n",
    "- What is the overall shape of the distribution?  Is it normal, skewed, bimodal, uniform, etc.?\n",
    "\n",
    "- Are there any outliers present?  (Data points that are far from the others.)\n",
    "\n",
    "- If there are multiple related histograms, how does the distribution change across different groups?\n",
    "\n",
    "- What are the minimum and maximum values represented in each histogram?\n",
    "\n",
    "- How do bin sizes affect the histogram?  Does changing the bin width reveal different patterns in the data?\n",
    "\n",
    "- Does the distribution appear normal, or does it have a different distribution?"
   ]
  },
  {
   "cell_type": "code",
   "execution_count": 6,
   "id": "0fc7eab4",
   "metadata": {},
   "outputs": [
    {
     "name": "stderr",
     "output_type": "stream",
     "text": [
      "/tmp/ipykernel_6937/2865472475.py:4: DtypeWarning: Columns (15) have mixed types. Specify dtype option on import or set low_memory=False.\n",
      "  plays = pd.read_csv(\"Games.csv\")\n"
     ]
    },
    {
     "data": {
      "text/html": [
       "<div>\n",
       "<style scoped>\n",
       "    .dataframe tbody tr th:only-of-type {\n",
       "        vertical-align: middle;\n",
       "    }\n",
       "\n",
       "    .dataframe tbody tr th {\n",
       "        vertical-align: top;\n",
       "    }\n",
       "\n",
       "    .dataframe thead th {\n",
       "        text-align: right;\n",
       "    }\n",
       "</style>\n",
       "<table border=\"1\" class=\"dataframe\">\n",
       "  <thead>\n",
       "    <tr style=\"text-align: right;\">\n",
       "      <th></th>\n",
       "      <th>gameId</th>\n",
       "      <th>gameDate</th>\n",
       "      <th>hometeamCity</th>\n",
       "      <th>hometeamName</th>\n",
       "      <th>hometeamId</th>\n",
       "      <th>awayteamCity</th>\n",
       "      <th>awayteamName</th>\n",
       "      <th>awayteamId</th>\n",
       "      <th>homeScore</th>\n",
       "      <th>awayScore</th>\n",
       "      <th>winner</th>\n",
       "      <th>gameType</th>\n",
       "      <th>attendance</th>\n",
       "      <th>arenaId</th>\n",
       "      <th>gameLabel</th>\n",
       "      <th>gameSubLabel</th>\n",
       "      <th>seriesGameNumber</th>\n",
       "    </tr>\n",
       "  </thead>\n",
       "  <tbody>\n",
       "    <tr>\n",
       "      <th>0</th>\n",
       "      <td>22401143</td>\n",
       "      <td>2025-04-06 20:30:00</td>\n",
       "      <td>Golden State</td>\n",
       "      <td>Warriors</td>\n",
       "      <td>1610612744</td>\n",
       "      <td>Houston</td>\n",
       "      <td>Rockets</td>\n",
       "      <td>1610612745</td>\n",
       "      <td>96</td>\n",
       "      <td>106</td>\n",
       "      <td>1610612745</td>\n",
       "      <td>Regular Season</td>\n",
       "      <td>18064.0</td>\n",
       "      <td>1000011</td>\n",
       "      <td>NaN</td>\n",
       "      <td>NaN</td>\n",
       "      <td>0.0</td>\n",
       "    </tr>\n",
       "    <tr>\n",
       "      <th>1</th>\n",
       "      <td>22401142</td>\n",
       "      <td>2025-04-06 20:00:00</td>\n",
       "      <td>Denver</td>\n",
       "      <td>Nuggets</td>\n",
       "      <td>1610612743</td>\n",
       "      <td>Indiana</td>\n",
       "      <td>Pacers</td>\n",
       "      <td>1610612754</td>\n",
       "      <td>120</td>\n",
       "      <td>125</td>\n",
       "      <td>1610612754</td>\n",
       "      <td>Regular Season</td>\n",
       "      <td>19932.0</td>\n",
       "      <td>1000046</td>\n",
       "      <td>NaN</td>\n",
       "      <td>NaN</td>\n",
       "      <td>0.0</td>\n",
       "    </tr>\n",
       "    <tr>\n",
       "      <th>2</th>\n",
       "      <td>22401140</td>\n",
       "      <td>2025-04-06 19:00:00</td>\n",
       "      <td>New York</td>\n",
       "      <td>Knicks</td>\n",
       "      <td>1610612752</td>\n",
       "      <td>Phoenix</td>\n",
       "      <td>Suns</td>\n",
       "      <td>1610612756</td>\n",
       "      <td>112</td>\n",
       "      <td>98</td>\n",
       "      <td>1610612752</td>\n",
       "      <td>Regular Season</td>\n",
       "      <td>19812.0</td>\n",
       "      <td>30</td>\n",
       "      <td>NaN</td>\n",
       "      <td>NaN</td>\n",
       "      <td>0.0</td>\n",
       "    </tr>\n",
       "    <tr>\n",
       "      <th>3</th>\n",
       "      <td>22401136</td>\n",
       "      <td>2025-04-06 18:00:00</td>\n",
       "      <td>Atlanta</td>\n",
       "      <td>Hawks</td>\n",
       "      <td>1610612737</td>\n",
       "      <td>Utah</td>\n",
       "      <td>Jazz</td>\n",
       "      <td>1610612762</td>\n",
       "      <td>147</td>\n",
       "      <td>134</td>\n",
       "      <td>1610612737</td>\n",
       "      <td>Regular Season</td>\n",
       "      <td>16331.0</td>\n",
       "      <td>650</td>\n",
       "      <td>NaN</td>\n",
       "      <td>NaN</td>\n",
       "      <td>0.0</td>\n",
       "    </tr>\n",
       "    <tr>\n",
       "      <th>4</th>\n",
       "      <td>22401137</td>\n",
       "      <td>2025-04-06 18:00:00</td>\n",
       "      <td>Boston</td>\n",
       "      <td>Celtics</td>\n",
       "      <td>1610612738</td>\n",
       "      <td>Washington</td>\n",
       "      <td>Wizards</td>\n",
       "      <td>1610612764</td>\n",
       "      <td>124</td>\n",
       "      <td>90</td>\n",
       "      <td>1610612738</td>\n",
       "      <td>Regular Season</td>\n",
       "      <td>19156.0</td>\n",
       "      <td>17</td>\n",
       "      <td>NaN</td>\n",
       "      <td>NaN</td>\n",
       "      <td>0.0</td>\n",
       "    </tr>\n",
       "    <tr>\n",
       "      <th>5</th>\n",
       "      <td>22401138</td>\n",
       "      <td>2025-04-06 18:00:00</td>\n",
       "      <td>Cleveland</td>\n",
       "      <td>Cavaliers</td>\n",
       "      <td>1610612739</td>\n",
       "      <td>Sacramento</td>\n",
       "      <td>Kings</td>\n",
       "      <td>1610612758</td>\n",
       "      <td>113</td>\n",
       "      <td>120</td>\n",
       "      <td>1610612758</td>\n",
       "      <td>Regular Season</td>\n",
       "      <td>19432.0</td>\n",
       "      <td>1000144</td>\n",
       "      <td>NaN</td>\n",
       "      <td>NaN</td>\n",
       "      <td>0.0</td>\n",
       "    </tr>\n",
       "    <tr>\n",
       "      <th>6</th>\n",
       "      <td>22401139</td>\n",
       "      <td>2025-04-06 18:00:00</td>\n",
       "      <td>Portland</td>\n",
       "      <td>Trail Blazers</td>\n",
       "      <td>1610612757</td>\n",
       "      <td>San Antonio</td>\n",
       "      <td>Spurs</td>\n",
       "      <td>1610612759</td>\n",
       "      <td>120</td>\n",
       "      <td>109</td>\n",
       "      <td>1610612757</td>\n",
       "      <td>Regular Season</td>\n",
       "      <td>17928.0</td>\n",
       "      <td>51</td>\n",
       "      <td>NaN</td>\n",
       "      <td>NaN</td>\n",
       "      <td>0.0</td>\n",
       "    </tr>\n",
       "    <tr>\n",
       "      <th>7</th>\n",
       "      <td>22401134</td>\n",
       "      <td>2025-04-06 15:30:00</td>\n",
       "      <td>Brooklyn</td>\n",
       "      <td>Nets</td>\n",
       "      <td>1610612751</td>\n",
       "      <td>Toronto</td>\n",
       "      <td>Raptors</td>\n",
       "      <td>1610612761</td>\n",
       "      <td>109</td>\n",
       "      <td>120</td>\n",
       "      <td>1610612761</td>\n",
       "      <td>Regular Season</td>\n",
       "      <td>17007.0</td>\n",
       "      <td>461</td>\n",
       "      <td>NaN</td>\n",
       "      <td>NaN</td>\n",
       "      <td>0.0</td>\n",
       "    </tr>\n",
       "    <tr>\n",
       "      <th>8</th>\n",
       "      <td>22401135</td>\n",
       "      <td>2025-04-06 15:30:00</td>\n",
       "      <td>Oklahoma City</td>\n",
       "      <td>Thunder</td>\n",
       "      <td>1610612760</td>\n",
       "      <td>Los Angeles</td>\n",
       "      <td>Lakers</td>\n",
       "      <td>1610612747</td>\n",
       "      <td>99</td>\n",
       "      <td>126</td>\n",
       "      <td>1610612747</td>\n",
       "      <td>Regular Season</td>\n",
       "      <td>18203.0</td>\n",
       "      <td>1000052</td>\n",
       "      <td>NaN</td>\n",
       "      <td>NaN</td>\n",
       "      <td>0.0</td>\n",
       "    </tr>\n",
       "    <tr>\n",
       "      <th>9</th>\n",
       "      <td>22401133</td>\n",
       "      <td>2025-04-06 13:00:00</td>\n",
       "      <td>Charlotte</td>\n",
       "      <td>Hornets</td>\n",
       "      <td>1610612766</td>\n",
       "      <td>Chicago</td>\n",
       "      <td>Bulls</td>\n",
       "      <td>1610612741</td>\n",
       "      <td>117</td>\n",
       "      <td>131</td>\n",
       "      <td>1610612741</td>\n",
       "      <td>Regular Season</td>\n",
       "      <td>18499.0</td>\n",
       "      <td>9</td>\n",
       "      <td>NaN</td>\n",
       "      <td>NaN</td>\n",
       "      <td>0.0</td>\n",
       "    </tr>\n",
       "  </tbody>\n",
       "</table>\n",
       "</div>"
      ],
      "text/plain": [
       "     gameId             gameDate   hometeamCity   hometeamName  hometeamId  \\\n",
       "0  22401143  2025-04-06 20:30:00   Golden State       Warriors  1610612744   \n",
       "1  22401142  2025-04-06 20:00:00         Denver        Nuggets  1610612743   \n",
       "2  22401140  2025-04-06 19:00:00       New York         Knicks  1610612752   \n",
       "3  22401136  2025-04-06 18:00:00        Atlanta          Hawks  1610612737   \n",
       "4  22401137  2025-04-06 18:00:00         Boston        Celtics  1610612738   \n",
       "5  22401138  2025-04-06 18:00:00      Cleveland      Cavaliers  1610612739   \n",
       "6  22401139  2025-04-06 18:00:00       Portland  Trail Blazers  1610612757   \n",
       "7  22401134  2025-04-06 15:30:00       Brooklyn           Nets  1610612751   \n",
       "8  22401135  2025-04-06 15:30:00  Oklahoma City        Thunder  1610612760   \n",
       "9  22401133  2025-04-06 13:00:00      Charlotte        Hornets  1610612766   \n",
       "\n",
       "  awayteamCity awayteamName  awayteamId  homeScore  awayScore      winner  \\\n",
       "0      Houston      Rockets  1610612745         96        106  1610612745   \n",
       "1      Indiana       Pacers  1610612754        120        125  1610612754   \n",
       "2      Phoenix         Suns  1610612756        112         98  1610612752   \n",
       "3         Utah         Jazz  1610612762        147        134  1610612737   \n",
       "4   Washington      Wizards  1610612764        124         90  1610612738   \n",
       "5   Sacramento        Kings  1610612758        113        120  1610612758   \n",
       "6  San Antonio        Spurs  1610612759        120        109  1610612757   \n",
       "7      Toronto      Raptors  1610612761        109        120  1610612761   \n",
       "8  Los Angeles       Lakers  1610612747         99        126  1610612747   \n",
       "9      Chicago        Bulls  1610612741        117        131  1610612741   \n",
       "\n",
       "         gameType  attendance  arenaId gameLabel gameSubLabel  \\\n",
       "0  Regular Season     18064.0  1000011       NaN          NaN   \n",
       "1  Regular Season     19932.0  1000046       NaN          NaN   \n",
       "2  Regular Season     19812.0       30       NaN          NaN   \n",
       "3  Regular Season     16331.0      650       NaN          NaN   \n",
       "4  Regular Season     19156.0       17       NaN          NaN   \n",
       "5  Regular Season     19432.0  1000144       NaN          NaN   \n",
       "6  Regular Season     17928.0       51       NaN          NaN   \n",
       "7  Regular Season     17007.0      461       NaN          NaN   \n",
       "8  Regular Season     18203.0  1000052       NaN          NaN   \n",
       "9  Regular Season     18499.0        9       NaN          NaN   \n",
       "\n",
       "   seriesGameNumber  \n",
       "0               0.0  \n",
       "1               0.0  \n",
       "2               0.0  \n",
       "3               0.0  \n",
       "4               0.0  \n",
       "5               0.0  \n",
       "6               0.0  \n",
       "7               0.0  \n",
       "8               0.0  \n",
       "9               0.0  "
      ]
     },
     "execution_count": 6,
     "metadata": {},
     "output_type": "execute_result"
    }
   ],
   "source": [
    "import pandas as pd\n",
    "\n",
    "# Load the dataset\n",
    "plays = pd.read_csv(\"Games.csv\")\n",
    "\n",
    "# Preview the first 10 rows\n",
    "plays.head(10)"
   ]
  },
  {
   "cell_type": "code",
   "execution_count": 7,
   "id": "27b3ebc6",
   "metadata": {},
   "outputs": [
    {
     "name": "stdout",
     "output_type": "stream",
     "text": [
      "Index(['data'], dtype='object')\n"
     ]
    }
   ],
   "source": [
    "print(df.columns)\n"
   ]
  },
  {
   "cell_type": "code",
   "execution_count": 8,
   "id": "e5fc67cc",
   "metadata": {},
   "outputs": [
    {
     "name": "stdout",
     "output_type": "stream",
     "text": [
      "        data\n",
      "0   8.982282\n",
      "1  17.474758\n",
      "2  11.145697\n",
      "3   8.842174\n",
      "4   5.444572\n"
     ]
    }
   ],
   "source": [
    "print(df.head())"
   ]
  },
  {
   "cell_type": "code",
   "execution_count": 17,
   "id": "eb915d93",
   "metadata": {},
   "outputs": [],
   "source": [
    "df = pd.read_csv(\"Games.csv\", sep=\",\", header=0, low_memory=False)"
   ]
  },
  {
   "cell_type": "code",
   "execution_count": 9,
   "id": "934395f1",
   "metadata": {},
   "outputs": [
    {
     "name": "stdout",
     "output_type": "stream",
     "text": [
      "Index(['gameId,gameDate,hometeamCity,hometeamName,hometeamId,awayteamCity,awayteamName,awayteamId,homeScore,awayScore,winner,gameType,attendance,arenaId,gameLabel,gameSubLabel,seriesGameNumber'], dtype='object')\n"
     ]
    }
   ],
   "source": [
    "# Load the data again, ensuring correct delimiter\n",
    "df = pd.read_csv(\"Games.csv\", sep=\"\\t\")\n",
    "\n",
    "# Check the column names again\n",
    "print(df.columns)"
   ]
  },
  {
   "cell_type": "code",
   "execution_count": 10,
   "id": "eb6508f4",
   "metadata": {},
   "outputs": [],
   "source": [
    "import matplotlib.pyplot as plt\n",
    "import seaborn as sns\n",
    "\n",
    "# Loop through all columns in the dataframe\n",
    "for col in df.select_dtypes(include='number').columns:\n",
    "    plt.figure(figsize=(8, 6))\n",
    "    sns.histplot(df[col], kde=True, bins=30)  # KDE plot to show smooth distribution\n",
    "    plt.title(f\"Histogram for {col}\")\n",
    "    plt.xlabel(col)\n",
    "    plt.ylabel('Frequency')\n",
    "    plt.show()\n"
   ]
  },
  {
   "cell_type": "code",
   "execution_count": 14,
   "id": "57448abb",
   "metadata": {},
   "outputs": [
    {
     "name": "stdout",
     "output_type": "stream",
     "text": [
      "['gameId,gameDate,hometeamCity,hometeamName,hometeamId,awayteamCity,awayteamName,awayteamId,homeScore,awayScore,winner,gameType,attendance,arenaId,gameLabel,gameSubLabel,seriesGameNumber']\n"
     ]
    }
   ],
   "source": [
    "print([col for col in df.columns])"
   ]
  },
  {
   "cell_type": "code",
   "execution_count": 18,
   "id": "6e8fbd8d",
   "metadata": {},
   "outputs": [
    {
     "data": {
      "image/png": "[encoded data removed]",
      "text/plain": [
       "<Figure size 800x600 with 1 Axes>"
      ]
     },
     "metadata": {},
     "output_type": "display_data"
    }
   ],
   "source": [
    "import seaborn as sns\n",
    "import matplotlib.pyplot as plt\n",
    "\n",
    "# Get top 10 most frequent home scores\n",
    "top_categories = df['homeScore'].value_counts().head(10).index\n",
    "df_filtered = df[df['homeScore'].isin(top_categories)]\n",
    "\n",
    "plt.figure(figsize=(8, 6))\n",
    "sns.countplot(data=df_filtered, x='homeScore')\n",
    "plt.title('Top 10 Most Common Home Scores')\n",
    "plt.xlabel('Home Score')\n",
    "plt.ylabel('Count')\n",
    "plt.show()\n",
    "\n"
   ]
  },
  {
   "cell_type": "code",
   "execution_count": null,
   "id": "dc4cf888",
   "metadata": {},
   "outputs": [],
   "source": []
  },
  {
   "cell_type": "markdown",
   "id": "a3f1934f-7ef3-4cbb-84bd-b27d93ba95d2",
   "metadata": {},
   "source": [
    "# 4. Storytelling With Data graph"
   ]
  },
  {
   "cell_type": "markdown",
   "id": "91ba396b-fc00-48ec-acc6-e026348536f6",
   "metadata": {},
   "source": [
    "Reproduce any graph of your choice in p. 52-68 of the Storytelling With Data book as best you can.  (The second half of chapter two).  You do not have to get the exact data values right, just the overall look and feel."
   ]
  },
  {
   "cell_type": "code",
   "execution_count": null,
   "id": "5a7e4b4b-977a-4b0e-bec2-1f34a514da44",
   "metadata": {},
   "outputs": [
    {
     "name": "stderr",
     "output_type": "stream",
     "text": [
      "/tmp/ipykernel_8335/3370922897.py:13: FutureWarning: \n",
      "\n",
      "Passing `palette` without assigning `hue` is deprecated and will be removed in v0.14.0. Assign the `x` variable to `hue` and set `legend=False` for the same effect.\n",
      "\n",
      "  sns.barplot(x='Category', y='Value', data=df, palette=\"Blues_d\")\n"
     ]
    },
    {
     "data": {
      "image/png": "[encoded data removed]",
      "text/plain": [
       "<Figure size 800x600 with 1 Axes>"
      ]
     },
     "metadata": {},
     "output_type": "display_data"
    }
   ],
   "source": [
    "import matplotlib.pyplot as plt\n",
    "import seaborn as sns\n",
    "import pandas as pd\n",
    "\n",
    "# Example dataset: count of some categories\n",
    "data = {'Category': ['A', 'B', 'C', 'D', 'E'],\n",
    "        'Value': [23, 45, 56, 78, 33]}\n",
    "\n",
    "df = pd.DataFrame(data)\n",
    "\n",
    "# Create a bar plot\n",
    "plt.figure(figsize=(8, 6))\n",
    "sns.barplot(x='Category', y='Value', data=df, palette=\"Blues_d\")\n",
    "\n",
    "# Adding labels and title\n",
    "plt.title('Example Bar Plot')\n",
    "plt.xlabel('Category')\n",
    "plt.ylabel('Value')\n",
    "\n",
    "plt.show()\n"
   ]
  }
 ],
 "metadata": {
  "kernelspec": {
   "display_name": "Python 3",
   "language": "python",
   "name": "python3"
  },
  "language_info": {
   "codemirror_mode": {
    "name": "ipython",
    "version": 3
   },
   "file_extension": ".py",
   "mimetype": "text/x-python",
   "name": "python",
   "nbconvert_exporter": "python",
   "pygments_lexer": "ipython3",
   "version": "3.12.1"
  }
 },
 "nbformat": 4,
 "nbformat_minor": 5
}
