{
 "cells": [
  {
   "cell_type": "markdown",
   "id": "4441d563-75a4-4c32-b1e7-2c229477ca1c",
   "metadata": {},
   "source": [
    "# Week 4 - Univariate Analysis, part 2"
   ]
  },
  {
   "cell_type": "markdown",
   "id": "98e23199-b611-403a-b843-2369d14d29bd",
   "metadata": {
    "jp-MarkdownHeadingCollapsed": true
   },
   "source": [
    "# 1. Lesson - None"
   ]
  },
  {
   "cell_type": "markdown",
   "id": "35a7a0ae-f55f-455f-a951-478605b5e192",
   "metadata": {},
   "source": [
    "# 2. Weekly graph question"
   ]
  },
  {
   "cell_type": "markdown",
   "id": "6807d39d-413e-4ce2-9281-3dd73eda198f",
   "metadata": {},
   "source": [
    "Below are a histogram and boxplot representation of the same data. A pharmacy is keeping a record of the prices of the drugs that it sells, and an administrator wants to know how much the more expensive drugs tend to cost, in the context of the other prices.\n",
    "\n",
    "Please write a short explanation of the pros and cons of these two representations. Which would you choose? How would you modify the formatting, if at all, to make it more visually interesting, clear, or informative?"
   ]
  },
  {
   "cell_type": "code",
   "execution_count": 1,
   "id": "1888593e-817d-4148-954d-5d156593bd8d",
   "metadata": {},
   "outputs": [],
   "source": [
    "import numpy as np\n",
    "import pandas as pd\n",
    "\n",
    "np.random.seed(0)\n",
    "num_data = 100\n",
    "data = np.exp(np.random.uniform(size = num_data) * 4)\n",
    "df = pd.DataFrame(data.T, columns = [\"data\"])"
   ]
  },
  {
   "cell_type": "code",
   "execution_count": 2,
   "id": "13745ab1-8a9b-4568-bf56-3245fa36a358",
   "metadata": {},
   "outputs": [
    {
     "name": "stdout",
     "output_type": "stream",
     "text": [
      "The 75th percentile is: data    15.457656\n",
      "Name: 0.75, dtype: float64\n"
     ]
    },
    {
     "data": {
      "text/plain": [
       "<Axes: ylabel='Frequency'>"
      ]
     },
     "execution_count": 2,
     "metadata": {},
     "output_type": "execute_result"
    },
    {
     "data": {
      "image/png": "[encoded data removed]",
      "text/plain": [
       "<Figure size 640x480 with 1 Axes>"
      ]
     },
     "metadata": {},
     "output_type": "display_data"
    }
   ],
   "source": [
    "print(\"The 75th percentile is:\", df.quantile(q = 0.75))\n",
    "df.plot.hist()"
   ]
  },
  {
   "cell_type": "code",
   "execution_count": 3,
   "id": "d4dbce72-bd33-43a2-b3e7-354a1cca6e39",
   "metadata": {},
   "outputs": [
    {
     "data": {
      "text/plain": [
       "<Axes: >"
      ]
     },
     "execution_count": 3,
     "metadata": {},
     "output_type": "execute_result"
    },
    {
     "data": {
      "image/png": "[encoded data removed]",
      "text/plain": [
       "<Figure size 640x480 with 1 Axes>"
      ]
     },
     "metadata": {},
     "output_type": "display_data"
    }
   ],
   "source": [
    "df.plot.box()"
   ]
  },
  {
   "cell_type": "markdown",
   "id": "ab830464-2f92-4281-a2d3-474ffd26d1c7",
   "metadata": {},
   "source": [
    "# 3. Homework - working on your datasets"
   ]
  },
  {
   "cell_type": "markdown",
   "id": "e892ba10-7f81-4330-9863-73f65fbdc4bd",
   "metadata": {},
   "source": [
    "This week, you will do the same types of exercises as last week, but you should use your chosen datasets that someone in your class found last semester. (They likely will not be the particular datasets that you found yourself.)\n",
    "\n",
    "### Here are some types of analysis you can do:\n",
    "\n",
    "- Draw histograms and histogram variants for each feature or column.  (Swarm plot, kde plot, violin plot).\n",
    "\n",
    "- Draw grouped histograms.  For instance, if you have tree heights for both maple and oak trees, you could draw histograms for both.\n",
    "\n",
    "- Draw a bar plot to indicate total counts of each categorical variable in a given column.\n",
    "\n",
    "- Find means, medians, and modes.\n",
    "\n",
    "### Conclusions:\n",
    "\n",
    "- Explain what conclusions you would draw from this analysis: are the data what you expect?  Are the data likely to be usable?  If they are not useable, find some new data!\n",
    "\n",
    "- What is the overall shape of the distribution?  Is it normal, skewed, bimodal, uniform, etc.?\n",
    "\n",
    "- Are there any outliers present?  (Data points that are far from the others.)\n",
    "\n",
    "- If there are multiple related histograms, how does the distribution change across different groups?\n",
    "\n",
    "- What are the minimum and maximum values represented in each histogram?\n",
    "\n",
    "- How do bin sizes affect the histogram?  Does changing the bin width reveal different patterns in the data?\n",
    "\n",
    "- Does the distribution appear normal, or does it have a different distribution?"
   ]
  },
  {
   "cell_type": "code",
   "execution_count": 18,
   "id": "0fc7eab4",
   "metadata": {},
   "outputs": [
    {
     "data": {
      "text/html": [
       "<div>\n",
       "<style scoped>\n",
       "    .dataframe tbody tr th:only-of-type {\n",
       "        vertical-align: middle;\n",
       "    }\n",
       "\n",
       "    .dataframe tbody tr th {\n",
       "        vertical-align: top;\n",
       "    }\n",
       "\n",
       "    .dataframe thead th {\n",
       "        text-align: right;\n",
       "    }\n",
       "</style>\n",
       "<table border=\"1\" class=\"dataframe\">\n",
       "  <thead>\n",
       "    <tr style=\"text-align: right;\">\n",
       "      <th></th>\n",
       "      <th>gameId</th>\n",
       "      <th>playId</th>\n",
       "      <th>playDescription</th>\n",
       "      <th>quarter</th>\n",
       "      <th>down</th>\n",
       "      <th>yardsToGo</th>\n",
       "      <th>possessionTeam</th>\n",
       "      <th>playType</th>\n",
       "      <th>yardlineSide</th>\n",
       "      <th>yardlineNumber</th>\n",
       "      <th>...</th>\n",
       "      <th>preSnapHomeScore</th>\n",
       "      <th>gameClock</th>\n",
       "      <th>absoluteYardlineNumber</th>\n",
       "      <th>penaltyCodes</th>\n",
       "      <th>penaltyJerseyNumbers</th>\n",
       "      <th>passResult</th>\n",
       "      <th>offensePlayResult</th>\n",
       "      <th>playResult</th>\n",
       "      <th>epa</th>\n",
       "      <th>isDefensivePI</th>\n",
       "    </tr>\n",
       "  </thead>\n",
       "  <tbody>\n",
       "    <tr>\n",
       "      <th>0</th>\n",
       "      <td>2018090600</td>\n",
       "      <td>75</td>\n",
       "      <td>(15:00) M.Ryan pass short right to J.Jones pus...</td>\n",
       "      <td>1</td>\n",
       "      <td>1</td>\n",
       "      <td>15</td>\n",
       "      <td>ATL</td>\n",
       "      <td>play_type_pass</td>\n",
       "      <td>ATL</td>\n",
       "      <td>20</td>\n",
       "      <td>...</td>\n",
       "      <td>0.0</td>\n",
       "      <td>15:00:00</td>\n",
       "      <td>90.0</td>\n",
       "      <td>NaN</td>\n",
       "      <td>NaN</td>\n",
       "      <td>C</td>\n",
       "      <td>10</td>\n",
       "      <td>10</td>\n",
       "      <td>0.261827</td>\n",
       "      <td>False</td>\n",
       "    </tr>\n",
       "    <tr>\n",
       "      <th>1</th>\n",
       "      <td>2018090600</td>\n",
       "      <td>146</td>\n",
       "      <td>(13:10) M.Ryan pass incomplete short right to ...</td>\n",
       "      <td>1</td>\n",
       "      <td>1</td>\n",
       "      <td>10</td>\n",
       "      <td>ATL</td>\n",
       "      <td>play_type_pass</td>\n",
       "      <td>PHI</td>\n",
       "      <td>39</td>\n",
       "      <td>...</td>\n",
       "      <td>0.0</td>\n",
       "      <td>13:10:00</td>\n",
       "      <td>49.0</td>\n",
       "      <td>NaN</td>\n",
       "      <td>NaN</td>\n",
       "      <td>I</td>\n",
       "      <td>0</td>\n",
       "      <td>0</td>\n",
       "      <td>-0.372360</td>\n",
       "      <td>False</td>\n",
       "    </tr>\n",
       "    <tr>\n",
       "      <th>2</th>\n",
       "      <td>2018090600</td>\n",
       "      <td>168</td>\n",
       "      <td>(13:05) (Shotgun) M.Ryan pass incomplete short...</td>\n",
       "      <td>1</td>\n",
       "      <td>2</td>\n",
       "      <td>10</td>\n",
       "      <td>ATL</td>\n",
       "      <td>play_type_pass</td>\n",
       "      <td>PHI</td>\n",
       "      <td>39</td>\n",
       "      <td>...</td>\n",
       "      <td>0.0</td>\n",
       "      <td>13:05:00</td>\n",
       "      <td>49.0</td>\n",
       "      <td>NaN</td>\n",
       "      <td>NaN</td>\n",
       "      <td>I</td>\n",
       "      <td>0</td>\n",
       "      <td>0</td>\n",
       "      <td>-0.702779</td>\n",
       "      <td>False</td>\n",
       "    </tr>\n",
       "    <tr>\n",
       "      <th>3</th>\n",
       "      <td>2018090600</td>\n",
       "      <td>190</td>\n",
       "      <td>(13:01) (Shotgun) M.Ryan pass deep left to J.J...</td>\n",
       "      <td>1</td>\n",
       "      <td>3</td>\n",
       "      <td>10</td>\n",
       "      <td>ATL</td>\n",
       "      <td>play_type_pass</td>\n",
       "      <td>PHI</td>\n",
       "      <td>39</td>\n",
       "      <td>...</td>\n",
       "      <td>0.0</td>\n",
       "      <td>13:01:00</td>\n",
       "      <td>49.0</td>\n",
       "      <td>NaN</td>\n",
       "      <td>NaN</td>\n",
       "      <td>C</td>\n",
       "      <td>33</td>\n",
       "      <td>33</td>\n",
       "      <td>3.047530</td>\n",
       "      <td>False</td>\n",
       "    </tr>\n",
       "    <tr>\n",
       "      <th>4</th>\n",
       "      <td>2018090600</td>\n",
       "      <td>256</td>\n",
       "      <td>(10:59) (Shotgun) M.Ryan pass incomplete short...</td>\n",
       "      <td>1</td>\n",
       "      <td>3</td>\n",
       "      <td>1</td>\n",
       "      <td>ATL</td>\n",
       "      <td>play_type_pass</td>\n",
       "      <td>PHI</td>\n",
       "      <td>1</td>\n",
       "      <td>...</td>\n",
       "      <td>0.0</td>\n",
       "      <td>10:59:00</td>\n",
       "      <td>11.0</td>\n",
       "      <td>NaN</td>\n",
       "      <td>NaN</td>\n",
       "      <td>I</td>\n",
       "      <td>0</td>\n",
       "      <td>0</td>\n",
       "      <td>-0.842272</td>\n",
       "      <td>False</td>\n",
       "    </tr>\n",
       "    <tr>\n",
       "      <th>5</th>\n",
       "      <td>2018090600</td>\n",
       "      <td>320</td>\n",
       "      <td>(10:10) (Shotgun) N.Foles pass short left to N...</td>\n",
       "      <td>1</td>\n",
       "      <td>2</td>\n",
       "      <td>8</td>\n",
       "      <td>PHI</td>\n",
       "      <td>play_type_pass</td>\n",
       "      <td>PHI</td>\n",
       "      <td>4</td>\n",
       "      <td>...</td>\n",
       "      <td>0.0</td>\n",
       "      <td>10:10:00</td>\n",
       "      <td>14.0</td>\n",
       "      <td>NaN</td>\n",
       "      <td>NaN</td>\n",
       "      <td>C</td>\n",
       "      <td>4</td>\n",
       "      <td>4</td>\n",
       "      <td>-0.344096</td>\n",
       "      <td>False</td>\n",
       "    </tr>\n",
       "    <tr>\n",
       "      <th>6</th>\n",
       "      <td>2018090600</td>\n",
       "      <td>344</td>\n",
       "      <td>(9:24) (Shotgun) N.Foles pass incomplete short...</td>\n",
       "      <td>1</td>\n",
       "      <td>3</td>\n",
       "      <td>4</td>\n",
       "      <td>PHI</td>\n",
       "      <td>play_type_pass</td>\n",
       "      <td>PHI</td>\n",
       "      <td>8</td>\n",
       "      <td>...</td>\n",
       "      <td>0.0</td>\n",
       "      <td>09:24:00</td>\n",
       "      <td>18.0</td>\n",
       "      <td>NaN</td>\n",
       "      <td>NaN</td>\n",
       "      <td>I</td>\n",
       "      <td>0</td>\n",
       "      <td>0</td>\n",
       "      <td>-1.192208</td>\n",
       "      <td>False</td>\n",
       "    </tr>\n",
       "    <tr>\n",
       "      <th>7</th>\n",
       "      <td>2018090600</td>\n",
       "      <td>402</td>\n",
       "      <td>(9:08) M.Ryan pass incomplete deep left to M.S...</td>\n",
       "      <td>1</td>\n",
       "      <td>1</td>\n",
       "      <td>10</td>\n",
       "      <td>ATL</td>\n",
       "      <td>play_type_pass</td>\n",
       "      <td>PHI</td>\n",
       "      <td>44</td>\n",
       "      <td>...</td>\n",
       "      <td>0.0</td>\n",
       "      <td>09:08:00</td>\n",
       "      <td>54.0</td>\n",
       "      <td>NaN</td>\n",
       "      <td>NaN</td>\n",
       "      <td>I</td>\n",
       "      <td>0</td>\n",
       "      <td>0</td>\n",
       "      <td>-0.429863</td>\n",
       "      <td>False</td>\n",
       "    </tr>\n",
       "    <tr>\n",
       "      <th>8</th>\n",
       "      <td>2018090600</td>\n",
       "      <td>492</td>\n",
       "      <td>(7:01) M.Ryan pass short left to T.Coleman pus...</td>\n",
       "      <td>1</td>\n",
       "      <td>2</td>\n",
       "      <td>13</td>\n",
       "      <td>ATL</td>\n",
       "      <td>play_type_pass</td>\n",
       "      <td>PHI</td>\n",
       "      <td>36</td>\n",
       "      <td>...</td>\n",
       "      <td>0.0</td>\n",
       "      <td>07:01:00</td>\n",
       "      <td>46.0</td>\n",
       "      <td>NaN</td>\n",
       "      <td>NaN</td>\n",
       "      <td>C</td>\n",
       "      <td>26</td>\n",
       "      <td>26</td>\n",
       "      <td>1.879804</td>\n",
       "      <td>False</td>\n",
       "    </tr>\n",
       "    <tr>\n",
       "      <th>9</th>\n",
       "      <td>2018090600</td>\n",
       "      <td>521</td>\n",
       "      <td>(6:19) M.Ryan pass short left to A.Hooper to P...</td>\n",
       "      <td>1</td>\n",
       "      <td>1</td>\n",
       "      <td>10</td>\n",
       "      <td>ATL</td>\n",
       "      <td>play_type_pass</td>\n",
       "      <td>PHI</td>\n",
       "      <td>10</td>\n",
       "      <td>...</td>\n",
       "      <td>0.0</td>\n",
       "      <td>06:19:00</td>\n",
       "      <td>20.0</td>\n",
       "      <td>NaN</td>\n",
       "      <td>NaN</td>\n",
       "      <td>C</td>\n",
       "      <td>3</td>\n",
       "      <td>3</td>\n",
       "      <td>0.045665</td>\n",
       "      <td>False</td>\n",
       "    </tr>\n",
       "  </tbody>\n",
       "</table>\n",
       "<p>10 rows × 27 columns</p>\n",
       "</div>"
      ],
      "text/plain": [
       "       gameId  playId                                    playDescription  \\\n",
       "0  2018090600      75  (15:00) M.Ryan pass short right to J.Jones pus...   \n",
       "1  2018090600     146  (13:10) M.Ryan pass incomplete short right to ...   \n",
       "2  2018090600     168  (13:05) (Shotgun) M.Ryan pass incomplete short...   \n",
       "3  2018090600     190  (13:01) (Shotgun) M.Ryan pass deep left to J.J...   \n",
       "4  2018090600     256  (10:59) (Shotgun) M.Ryan pass incomplete short...   \n",
       "5  2018090600     320  (10:10) (Shotgun) N.Foles pass short left to N...   \n",
       "6  2018090600     344  (9:24) (Shotgun) N.Foles pass incomplete short...   \n",
       "7  2018090600     402  (9:08) M.Ryan pass incomplete deep left to M.S...   \n",
       "8  2018090600     492  (7:01) M.Ryan pass short left to T.Coleman pus...   \n",
       "9  2018090600     521  (6:19) M.Ryan pass short left to A.Hooper to P...   \n",
       "\n",
       "   quarter  down  yardsToGo possessionTeam        playType yardlineSide  \\\n",
       "0        1     1         15            ATL  play_type_pass          ATL   \n",
       "1        1     1         10            ATL  play_type_pass          PHI   \n",
       "2        1     2         10            ATL  play_type_pass          PHI   \n",
       "3        1     3         10            ATL  play_type_pass          PHI   \n",
       "4        1     3          1            ATL  play_type_pass          PHI   \n",
       "5        1     2          8            PHI  play_type_pass          PHI   \n",
       "6        1     3          4            PHI  play_type_pass          PHI   \n",
       "7        1     1         10            ATL  play_type_pass          PHI   \n",
       "8        1     2         13            ATL  play_type_pass          PHI   \n",
       "9        1     1         10            ATL  play_type_pass          PHI   \n",
       "\n",
       "   yardlineNumber  ... preSnapHomeScore gameClock  absoluteYardlineNumber  \\\n",
       "0              20  ...              0.0  15:00:00                    90.0   \n",
       "1              39  ...              0.0  13:10:00                    49.0   \n",
       "2              39  ...              0.0  13:05:00                    49.0   \n",
       "3              39  ...              0.0  13:01:00                    49.0   \n",
       "4               1  ...              0.0  10:59:00                    11.0   \n",
       "5               4  ...              0.0  10:10:00                    14.0   \n",
       "6               8  ...              0.0  09:24:00                    18.0   \n",
       "7              44  ...              0.0  09:08:00                    54.0   \n",
       "8              36  ...              0.0  07:01:00                    46.0   \n",
       "9              10  ...              0.0  06:19:00                    20.0   \n",
       "\n",
       "   penaltyCodes penaltyJerseyNumbers passResult  offensePlayResult  \\\n",
       "0           NaN                  NaN          C                 10   \n",
       "1           NaN                  NaN          I                  0   \n",
       "2           NaN                  NaN          I                  0   \n",
       "3           NaN                  NaN          C                 33   \n",
       "4           NaN                  NaN          I                  0   \n",
       "5           NaN                  NaN          C                  4   \n",
       "6           NaN                  NaN          I                  0   \n",
       "7           NaN                  NaN          I                  0   \n",
       "8           NaN                  NaN          C                 26   \n",
       "9           NaN                  NaN          C                  3   \n",
       "\n",
       "   playResult       epa  isDefensivePI  \n",
       "0          10  0.261827          False  \n",
       "1           0 -0.372360          False  \n",
       "2           0 -0.702779          False  \n",
       "3          33  3.047530          False  \n",
       "4           0 -0.842272          False  \n",
       "5           4 -0.344096          False  \n",
       "6           0 -1.192208          False  \n",
       "7           0 -0.429863          False  \n",
       "8          26  1.879804          False  \n",
       "9           3  0.045665          False  \n",
       "\n",
       "[10 rows x 27 columns]"
      ]
     },
     "execution_count": 18,
     "metadata": {},
     "output_type": "execute_result"
    }
   ],
   "source": [
    "import pandas as pd\n",
    "\n",
    "# Load the dataset\n",
    "plays = pd.read_csv(\"plays.csv\")\n",
    "\n",
    "# Preview the first 10 rows\n",
    "plays.head(10)"
   ]
  },
  {
   "cell_type": "code",
   "execution_count": 19,
   "id": "27b3ebc6",
   "metadata": {},
   "outputs": [
    {
     "name": "stdout",
     "output_type": "stream",
     "text": [
      "Index(['gameId,playId,playDescription,quarter,down,yardsToGo,possessionTeam,playType,yardlineSide,yardlineNumber,offenseFormation,personnelO,defendersInTheBox,numberOfPassRushers,personnelD,typeDropback,preSnapVisitorScore,preSnapHomeScore,gameClock,absoluteYardlineNumber,penaltyCodes,penaltyJerseyNumbers,passResult,offensePlayResult,playResult,epa,isDefensivePI'], dtype='object')\n"
     ]
    }
   ],
   "source": [
    "print(df.columns)\n"
   ]
  },
  {
   "cell_type": "code",
   "execution_count": 20,
   "id": "e5fc67cc",
   "metadata": {},
   "outputs": [
    {
     "name": "stdout",
     "output_type": "stream",
     "text": [
      "  gameId,playId,playDescription,quarter,down,yardsToGo,possessionTeam,playType,yardlineSide,yardlineNumber,offenseFormation,personnelO,defendersInTheBox,numberOfPassRushers,personnelD,typeDropback,preSnapVisitorScore,preSnapHomeScore,gameClock,absoluteYardlineNumber,penaltyCodes,penaltyJerseyNumbers,passResult,offensePlayResult,playResult,epa,isDefensivePI\n",
      "0  2018090600,75,(15:00) M.Ryan pass short right ...                                                                                                                                                                                                                                                                                                                  \n",
      "1  2018090600,146,\"(13:10) M.Ryan pass incomplete...                                                                                                                                                                                                                                                                                                                  \n",
      "2  2018090600,168,(13:05) (Shotgun) M.Ryan pass i...                                                                                                                                                                                                                                                                                                                  \n",
      "3  2018090600,190,(13:01) (Shotgun) M.Ryan pass d...                                                                                                                                                                                                                                                                                                                  \n",
      "4  2018090600,256,(10:59) (Shotgun) M.Ryan pass i...                                                                                                                                                                                                                                                                                                                  \n"
     ]
    }
   ],
   "source": [
    "print(df.head())"
   ]
  },
  {
   "cell_type": "code",
   "execution_count": 21,
   "id": "934395f1",
   "metadata": {},
   "outputs": [
    {
     "name": "stdout",
     "output_type": "stream",
     "text": [
      "Index(['gameId,playId,playDescription,quarter,down,yardsToGo,possessionTeam,playType,yardlineSide,yardlineNumber,offenseFormation,personnelO,defendersInTheBox,numberOfPassRushers,personnelD,typeDropback,preSnapVisitorScore,preSnapHomeScore,gameClock,absoluteYardlineNumber,penaltyCodes,penaltyJerseyNumbers,passResult,offensePlayResult,playResult,epa,isDefensivePI'], dtype='object')\n"
     ]
    }
   ],
   "source": [
    "# Load the data again, ensuring correct delimiter\n",
    "df = pd.read_csv(\"plays.csv\", sep=\"\\t\")\n",
    "\n",
    "# Check the column names again\n",
    "print(df.columns)"
   ]
  },
  {
   "cell_type": "code",
   "execution_count": 28,
   "id": "eb6508f4",
   "metadata": {},
   "outputs": [],
   "source": [
    "import matplotlib.pyplot as plt\n",
    "import seaborn as sns\n",
    "\n",
    "# Loop through all columns in the dataframe\n",
    "for col in df.select_dtypes(include='number').columns:\n",
    "    plt.figure(figsize=(8, 6))\n",
    "    sns.histplot(df[col], kde=True, bins=30)  # KDE plot to show smooth distribution\n",
    "    plt.title(f\"Histogram for {col}\")\n",
    "    plt.xlabel(col)\n",
    "    plt.ylabel('Frequency')\n",
    "    plt.show()\n"
   ]
  },
  {
   "cell_type": "code",
   "execution_count": 31,
   "id": "6e8fbd8d",
   "metadata": {},
   "outputs": [
    {
     "name": "stdout",
     "output_type": "stream",
     "text": [
      "Index(['gameId,playId,playDescription,quarter,down,yardsToGo,possessionTeam,playType,yardlineSide,yardlineNumber,offenseFormation,personnelO,defendersInTheBox,numberOfPassRushers,personnelD,typeDropback,preSnapVisitorScore,preSnapHomeScore,gameClock,absoluteYardlineNumber,penaltyCodes,penaltyJerseyNumbers,passResult,offensePlayResult,playResult,epa,isDefensivePI'], dtype='object')\n"
     ]
    },
    {
     "ename": "KeyError",
     "evalue": "'playType'",
     "output_type": "error",
     "traceback": [
      "\u001b[0;31m---------------------------------------------------------------------------\u001b[0m",
      "\u001b[0;31mKeyError\u001b[0m                                  Traceback (most recent call last)",
      "File \u001b[0;32m~/.local/lib/python3.12/site-packages/pandas/core/indexes/base.py:3805\u001b[0m, in \u001b[0;36mIndex.get_loc\u001b[0;34m(self, key)\u001b[0m\n\u001b[1;32m   3804\u001b[0m \u001b[38;5;28;01mtry\u001b[39;00m:\n\u001b[0;32m-> 3805\u001b[0m     \u001b[38;5;28;01mreturn\u001b[39;00m \u001b[38;5;28;43mself\u001b[39;49m\u001b[38;5;241;43m.\u001b[39;49m\u001b[43m_engine\u001b[49m\u001b[38;5;241;43m.\u001b[39;49m\u001b[43mget_loc\u001b[49m\u001b[43m(\u001b[49m\u001b[43mcasted_key\u001b[49m\u001b[43m)\u001b[49m\n\u001b[1;32m   3806\u001b[0m \u001b[38;5;28;01mexcept\u001b[39;00m \u001b[38;5;167;01mKeyError\u001b[39;00m \u001b[38;5;28;01mas\u001b[39;00m err:\n",
      "File \u001b[0;32mindex.pyx:167\u001b[0m, in \u001b[0;36mpandas._libs.index.IndexEngine.get_loc\u001b[0;34m()\u001b[0m\n",
      "File \u001b[0;32mindex.pyx:196\u001b[0m, in \u001b[0;36mpandas._libs.index.IndexEngine.get_loc\u001b[0;34m()\u001b[0m\n",
      "File \u001b[0;32mpandas/_libs/hashtable_class_helper.pxi:7081\u001b[0m, in \u001b[0;36mpandas._libs.hashtable.PyObjectHashTable.get_item\u001b[0;34m()\u001b[0m\n",
      "File \u001b[0;32mpandas/_libs/hashtable_class_helper.pxi:7089\u001b[0m, in \u001b[0;36mpandas._libs.hashtable.PyObjectHashTable.get_item\u001b[0;34m()\u001b[0m\n",
      "\u001b[0;31mKeyError\u001b[0m: 'playType'",
      "\nThe above exception was the direct cause of the following exception:\n",
      "\u001b[0;31mKeyError\u001b[0m                                  Traceback (most recent call last)",
      "Cell \u001b[0;32mIn[31], line 6\u001b[0m\n\u001b[1;32m      2\u001b[0m \u001b[38;5;28mprint\u001b[39m(df\u001b[38;5;241m.\u001b[39mcolumns)\n\u001b[1;32m      4\u001b[0m \u001b[38;5;66;03m# Let's say 'playType' is a categorical column in the dataset\u001b[39;00m\n\u001b[1;32m      5\u001b[0m \u001b[38;5;66;03m# Limit the number of categories in 'playType' and plot\u001b[39;00m\n\u001b[0;32m----> 6\u001b[0m top_categories \u001b[38;5;241m=\u001b[39m \u001b[43mdf\u001b[49m\u001b[43m[\u001b[49m\u001b[38;5;124;43m'\u001b[39;49m\u001b[38;5;124;43mplayType\u001b[39;49m\u001b[38;5;124;43m'\u001b[39;49m\u001b[43m]\u001b[49m\u001b[38;5;241m.\u001b[39mvalue_counts()\u001b[38;5;241m.\u001b[39mhead(\u001b[38;5;241m10\u001b[39m)\u001b[38;5;241m.\u001b[39mindex\n\u001b[1;32m      7\u001b[0m df_filtered \u001b[38;5;241m=\u001b[39m df[df[\u001b[38;5;124m'\u001b[39m\u001b[38;5;124mplayType\u001b[39m\u001b[38;5;124m'\u001b[39m]\u001b[38;5;241m.\u001b[39misin(top_categories)]\n\u001b[1;32m      9\u001b[0m \u001b[38;5;66;03m# Now plot the bar chart for the top categories\u001b[39;00m\n",
      "File \u001b[0;32m~/.local/lib/python3.12/site-packages/pandas/core/frame.py:4102\u001b[0m, in \u001b[0;36mDataFrame.__getitem__\u001b[0;34m(self, key)\u001b[0m\n\u001b[1;32m   4100\u001b[0m \u001b[38;5;28;01mif\u001b[39;00m \u001b[38;5;28mself\u001b[39m\u001b[38;5;241m.\u001b[39mcolumns\u001b[38;5;241m.\u001b[39mnlevels \u001b[38;5;241m>\u001b[39m \u001b[38;5;241m1\u001b[39m:\n\u001b[1;32m   4101\u001b[0m     \u001b[38;5;28;01mreturn\u001b[39;00m \u001b[38;5;28mself\u001b[39m\u001b[38;5;241m.\u001b[39m_getitem_multilevel(key)\n\u001b[0;32m-> 4102\u001b[0m indexer \u001b[38;5;241m=\u001b[39m \u001b[38;5;28;43mself\u001b[39;49m\u001b[38;5;241;43m.\u001b[39;49m\u001b[43mcolumns\u001b[49m\u001b[38;5;241;43m.\u001b[39;49m\u001b[43mget_loc\u001b[49m\u001b[43m(\u001b[49m\u001b[43mkey\u001b[49m\u001b[43m)\u001b[49m\n\u001b[1;32m   4103\u001b[0m \u001b[38;5;28;01mif\u001b[39;00m is_integer(indexer):\n\u001b[1;32m   4104\u001b[0m     indexer \u001b[38;5;241m=\u001b[39m [indexer]\n",
      "File \u001b[0;32m~/.local/lib/python3.12/site-packages/pandas/core/indexes/base.py:3812\u001b[0m, in \u001b[0;36mIndex.get_loc\u001b[0;34m(self, key)\u001b[0m\n\u001b[1;32m   3807\u001b[0m     \u001b[38;5;28;01mif\u001b[39;00m \u001b[38;5;28misinstance\u001b[39m(casted_key, \u001b[38;5;28mslice\u001b[39m) \u001b[38;5;129;01mor\u001b[39;00m (\n\u001b[1;32m   3808\u001b[0m         \u001b[38;5;28misinstance\u001b[39m(casted_key, abc\u001b[38;5;241m.\u001b[39mIterable)\n\u001b[1;32m   3809\u001b[0m         \u001b[38;5;129;01mand\u001b[39;00m \u001b[38;5;28many\u001b[39m(\u001b[38;5;28misinstance\u001b[39m(x, \u001b[38;5;28mslice\u001b[39m) \u001b[38;5;28;01mfor\u001b[39;00m x \u001b[38;5;129;01min\u001b[39;00m casted_key)\n\u001b[1;32m   3810\u001b[0m     ):\n\u001b[1;32m   3811\u001b[0m         \u001b[38;5;28;01mraise\u001b[39;00m InvalidIndexError(key)\n\u001b[0;32m-> 3812\u001b[0m     \u001b[38;5;28;01mraise\u001b[39;00m \u001b[38;5;167;01mKeyError\u001b[39;00m(key) \u001b[38;5;28;01mfrom\u001b[39;00m \u001b[38;5;21;01merr\u001b[39;00m\n\u001b[1;32m   3813\u001b[0m \u001b[38;5;28;01mexcept\u001b[39;00m \u001b[38;5;167;01mTypeError\u001b[39;00m:\n\u001b[1;32m   3814\u001b[0m     \u001b[38;5;66;03m# If we have a listlike key, _check_indexing_error will raise\u001b[39;00m\n\u001b[1;32m   3815\u001b[0m     \u001b[38;5;66;03m#  InvalidIndexError. Otherwise we fall through and re-raise\u001b[39;00m\n\u001b[1;32m   3816\u001b[0m     \u001b[38;5;66;03m#  the TypeError.\u001b[39;00m\n\u001b[1;32m   3817\u001b[0m     \u001b[38;5;28mself\u001b[39m\u001b[38;5;241m.\u001b[39m_check_indexing_error(key)\n",
      "\u001b[0;31mKeyError\u001b[0m: 'playType'"
     ]
    }
   ],
   "source": [
    "# Check column names to select an appropriate categorical column\n",
    "print(df.columns)\n",
    "\n",
    "# Let's say 'playType' is a categorical column in the dataset\n",
    "# Limit the number of categories in 'playType' and plot\n",
    "top_categories = df['playType'].value_counts().head(10).index\n",
    "df_filtered = df[df['playType'].isin(top_categories)]\n",
    "\n",
    "# Now plot the bar chart for the top categories\n",
    "plt.figure(figsize=(8, 6))\n",
    "sns.countplot(data=df_filtered, x='playType')\n",
    "plt.title('Bar plot for Limited Categories of Play Type')\n",
    "plt.xlabel('Play Type')\n",
    "plt.ylabel('Count')\n",
    "plt.show()\n",
    "\n"
   ]
  },
  {
   "cell_type": "markdown",
   "id": "a3f1934f-7ef3-4cbb-84bd-b27d93ba95d2",
   "metadata": {},
   "source": [
    "# 4. Storytelling With Data graph"
   ]
  },
  {
   "cell_type": "markdown",
   "id": "91ba396b-fc00-48ec-acc6-e026348536f6",
   "metadata": {},
   "source": [
    "Reproduce any graph of your choice in p. 52-68 of the Storytelling With Data book as best you can.  (The second half of chapter two).  You do not have to get the exact data values right, just the overall look and feel."
   ]
  },
  {
   "cell_type": "code",
   "execution_count": 32,
   "id": "5a7e4b4b-977a-4b0e-bec2-1f34a514da44",
   "metadata": {},
   "outputs": [
    {
     "name": "stderr",
     "output_type": "stream",
     "text": [
      "/tmp/ipykernel_8335/3370922897.py:13: FutureWarning: \n",
      "\n",
      "Passing `palette` without assigning `hue` is deprecated and will be removed in v0.14.0. Assign the `x` variable to `hue` and set `legend=False` for the same effect.\n",
      "\n",
      "  sns.barplot(x='Category', y='Value', data=df, palette=\"Blues_d\")\n"
     ]
    },
    {
     "data": {
      "image/png": "[encoded data removed]",
      "text/plain": [
       "<Figure size 800x600 with 1 Axes>"
      ]
     },
     "metadata": {},
     "output_type": "display_data"
    }
   ],
   "source": [
    "import matplotlib.pyplot as plt\n",
    "import seaborn as sns\n",
    "import pandas as pd\n",
    "\n",
    "# Example dataset: count of some categories\n",
    "data = {'Category': ['A', 'B', 'C', 'D', 'E'],\n",
    "        'Value': [23, 45, 56, 78, 33]}\n",
    "\n",
    "df = pd.DataFrame(data)\n",
    "\n",
    "# Create a bar plot\n",
    "plt.figure(figsize=(8, 6))\n",
    "sns.barplot(x='Category', y='Value', data=df, palette=\"Blues_d\")\n",
    "\n",
    "# Adding labels and title\n",
    "plt.title('Example Bar Plot')\n",
    "plt.xlabel('Category')\n",
    "plt.ylabel('Value')\n",
    "\n",
    "plt.show()\n"
   ]
  }
 ],
 "metadata": {
  "kernelspec": {
   "display_name": "Python 3",
   "language": "python",
   "name": "python3"
  },
  "language_info": {
   "codemirror_mode": {
    "name": "ipython",
    "version": 3
   },
   "file_extension": ".py",
   "mimetype": "text/x-python",
   "name": "python",
   "nbconvert_exporter": "python",
   "pygments_lexer": "ipython3",
   "version": "3.12.1"
  }
 },
 "nbformat": 4,
 "nbformat_minor": 5
}
